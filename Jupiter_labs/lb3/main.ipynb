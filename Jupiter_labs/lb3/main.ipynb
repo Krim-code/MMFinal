{
 "cells": [
  {
   "cell_type": "markdown",
   "id": "944f5ab8",
   "metadata": {},
   "source": [
    "# Лабораторная работа №3 «Кластерный анализ данных»"
   ]
  },
  {
   "cell_type": "markdown",
   "id": "c9f585ab",
   "metadata": {},
   "source": [
    "### Вариант 6"
   ]
  },
  {
   "cell_type": "markdown",
   "id": "96dce35d",
   "metadata": {},
   "source": [
    "## Импорты и базовые параметры / Метрики расстояний и вспомогательные функции"
   ]
  },
  {
   "cell_type": "code",
   "execution_count": 38,
   "id": "435f74de",
   "metadata": {},
   "outputs": [],
   "source": [
    "import numpy as np\n",
    "from scipy.spatial import distance\n",
    "import pandas as pd\n",
    "from itertools import combinations\n",
    "import matplotlib.pyplot as plt\n",
    "import seaborn as sns\n",
    "import scipy.cluster.hierarchy as sch\n",
    "\n",
    "p = 3\n",
    "q = 4\n",
    "w = [0.19, 0.25, 0.20, 0.36]\n",
    "\n",
    "def euclidean(a, b):\n",
    "    return distance.euclidean(a, b)\n",
    "\n",
    "def manhattan(a, b):\n",
    "    return distance.cityblock(a, b)\n",
    "\n",
    "def euclidean_w(a, b):\n",
    "    return distance.euclidean(a, b, w)\n",
    "\n",
    "def stepen(a, b):\n",
    "    sum_ = sum(abs(a[e] - b[e]) ** p for e in range(len(a)))\n",
    "    return sum_ ** (1 / q)\n",
    "\n",
    "def calc_centroid(a):\n",
    "    return np.mean(a, axis=0)\n"
   ]
  },
  {
   "cell_type": "markdown",
   "id": "ddf97917",
   "metadata": {},
   "source": [
    "## Класс кластера и алгоритм агломеративной кластеризации"
   ]
  },
  {
   "cell_type": "code",
   "execution_count": 39,
   "id": "0fee92a1",
   "metadata": {},
   "outputs": [],
   "source": [
    "all_type = {\n",
    "    'евклидово': euclidean,\n",
    "    'манхэттенское': manhattan,\n",
    "    'взвешенное евклидово': euclidean_w,\n",
    "    'степенное': stepen\n",
    "}\n",
    "\n",
    "class Cluster:\n",
    "    def __init__(self, objects, distance=0.0, name=None):\n",
    "        self.name = name\n",
    "        self.distance = distance\n",
    "        self.objects = objects\n",
    "\n",
    "    def get_distance(self, cluster, type_calc, is_min=True):\n",
    "        base = all_type[type_calc](self.objects[0], cluster.objects[0])\n",
    "        for obj in self.objects:\n",
    "            for other in cluster.objects:\n",
    "                d = all_type[type_calc](obj, other)\n",
    "                if is_min and d < base:\n",
    "                    base = d\n",
    "                elif not is_min and d > base:\n",
    "                    base = d\n",
    "        return base\n",
    "\n",
    "    def get_distance_centroid(self, cluster, type_calc):\n",
    "        return all_type[type_calc](\n",
    "            calc_centroid(self.objects), calc_centroid(cluster.objects)\n",
    "        )\n",
    "\n",
    "    def get_distance_average(self, cluster, type_calc):\n",
    "        total = sum(all_type[type_calc](a, b)\n",
    "                    for a in self.objects for b in cluster.objects)\n",
    "        return total / (len(self.objects) + len(cluster.objects))\n",
    "\n",
    "\n",
    "class CalcSimilar:\n",
    "    def __init__(self, df, max_len_cluster, type_calc):\n",
    "        self.df = df\n",
    "        self.max_len_cluster = max_len_cluster\n",
    "        self.type_calc = type_calc\n",
    "\n",
    "    def calculate(self, method):\n",
    "        methods = {\n",
    "            'одиночной связи': self.near_neighbor,\n",
    "            'полных связей': self.dist_neighbor,\n",
    "            'центроидный': self.centroid,\n",
    "            'средних связей': self.average_linkage,\n",
    "            'Уорда': self.ward\n",
    "        }\n",
    "        return methods[method]()\n",
    "\n",
    "    def cluster_iter(self, dist_func):\n",
    "        clusters = [Cluster([self.df[i]], 0, i) for i in range(len(self.df))]\n",
    "        final_clusters = []\n",
    "\n",
    "        while len(clusters) > 1:\n",
    "            min_dist = float('inf')\n",
    "            pair = None\n",
    "            for i in range(len(clusters)):\n",
    "                for j in range(i + 1, len(clusters)):\n",
    "                    d = dist_func(clusters[i], clusters[j])\n",
    "                    if d < min_dist and len(clusters[i].objects) + len(clusters[j].objects) <= self.max_len_cluster:\n",
    "                        min_dist = d\n",
    "                        pair = (i, j)\n",
    "\n",
    "            if pair is None:\n",
    "                break\n",
    "\n",
    "            i, j = pair\n",
    "            new_cluster = Cluster(clusters[i].objects + clusters[j].objects, min_dist)\n",
    "\n",
    "            # Удаляем объединившиеся кластеры\n",
    "            for idx in sorted([i, j], reverse=True):\n",
    "                del clusters[idx]\n",
    "\n",
    "            # Если достигли макс. размера — сразу кидаем в результат\n",
    "            if len(new_cluster.objects) == self.max_len_cluster:\n",
    "                final_clusters.append(new_cluster)\n",
    "            else:\n",
    "                clusters.append(new_cluster)\n",
    "\n",
    "        # Добавляем оставшиеся кластеры, если они не пустые\n",
    "        final_clusters.extend([c for c in clusters if len(c.objects) <= self.max_len_cluster])\n",
    "\n",
    "        # Преобразуем в индексы\n",
    "        results = []\n",
    "        for cluster in final_clusters:\n",
    "            cl_idx = []\n",
    "            for obj in cluster.objects:\n",
    "                for idx, orig in enumerate(self.df):\n",
    "                    if np.array_equal(obj, orig):\n",
    "                        cl_idx.append(idx)\n",
    "                        break\n",
    "            cl_idx.sort()\n",
    "            if cl_idx not in results:\n",
    "                results.append(cl_idx)\n",
    "\n",
    "        return results\n",
    "\n",
    "\n",
    "    def near_neighbor(self):\n",
    "        return self.cluster_iter(lambda a, b: a.get_distance(b, self.type_calc, True))\n",
    "\n",
    "    def dist_neighbor(self):\n",
    "        return self.cluster_iter(lambda a, b: a.get_distance(b, self.type_calc, False))\n",
    "\n",
    "    def centroid(self):\n",
    "        return self.cluster_iter(lambda a, b: a.get_distance_centroid(b, self.type_calc))\n",
    "\n",
    "    def average_linkage(self):\n",
    "        return self.cluster_iter(lambda a, b: a.get_distance_average(b, self.type_calc))\n",
    "\n",
    "    def ward(self):\n",
    "        labels = np.arange(len(self.df))\n",
    "        clusters = [[x] for x in self.df]\n",
    "        while len(clusters) > 1:\n",
    "            min_dist = float('inf')\n",
    "            best = None\n",
    "            for i in range(len(clusters)):\n",
    "                for j in range(i + 1, len(clusters)):\n",
    "                    if len(clusters[i]) + len(clusters[j]) <= self.max_len_cluster:\n",
    "                        d = self.ward_distance(clusters[i], clusters[j])\n",
    "                        if d < min_dist:\n",
    "                            min_dist = d\n",
    "                            best = (i, j)\n",
    "            if best is None:\n",
    "                break\n",
    "            i, j = best\n",
    "            clusters[i].extend(clusters.pop(j))\n",
    "        result = [[] for _ in range(len(clusters))]\n",
    "        for i, cluster in enumerate(clusters):\n",
    "            for obj in cluster:\n",
    "                idx = self.df.index(obj)\n",
    "                result[i].append(idx)\n",
    "        return [r for r in result if r]\n",
    "\n",
    "    def ward_distance(self, a, b):\n",
    "        n1, n2 = len(a), len(b)\n",
    "        m1, m2 = np.mean(a, axis=0), np.mean(b, axis=0)\n",
    "        return (n1 * n2) / (n1 + n2) * all_type[self.type_calc](m1, m2)\n",
    "\n"
   ]
  },
  {
   "cell_type": "markdown",
   "id": "09312cc6",
   "metadata": {},
   "source": [
    "## Входные данные (таблица объектов)"
   ]
  },
  {
   "cell_type": "code",
   "execution_count": null,
   "id": "08f286a3",
   "metadata": {},
   "outputs": [
    {
     "data": {
      "text/html": [
       "<div>\n",
       "<style scoped>\n",
       "    .dataframe tbody tr th:only-of-type {\n",
       "        vertical-align: middle;\n",
       "    }\n",
       "\n",
       "    .dataframe tbody tr th {\n",
       "        vertical-align: top;\n",
       "    }\n",
       "\n",
       "    .dataframe thead th {\n",
       "        text-align: right;\n",
       "    }\n",
       "</style>\n",
       "<table border=\"1\" class=\"dataframe\">\n",
       "  <thead>\n",
       "    <tr style=\"text-align: right;\">\n",
       "      <th></th>\n",
       "      <th>X1</th>\n",
       "      <th>X2</th>\n",
       "      <th>X3</th>\n",
       "      <th>X4</th>\n",
       "    </tr>\n",
       "  </thead>\n",
       "  <tbody>\n",
       "    <tr>\n",
       "      <th>0</th>\n",
       "      <td>98</td>\n",
       "      <td>59</td>\n",
       "      <td>30</td>\n",
       "      <td>37</td>\n",
       "    </tr>\n",
       "    <tr>\n",
       "      <th>1</th>\n",
       "      <td>74</td>\n",
       "      <td>34</td>\n",
       "      <td>86</td>\n",
       "      <td>81</td>\n",
       "    </tr>\n",
       "    <tr>\n",
       "      <th>2</th>\n",
       "      <td>95</td>\n",
       "      <td>10</td>\n",
       "      <td>12</td>\n",
       "      <td>93</td>\n",
       "    </tr>\n",
       "    <tr>\n",
       "      <th>3</th>\n",
       "      <td>24</td>\n",
       "      <td>24</td>\n",
       "      <td>42</td>\n",
       "      <td>12</td>\n",
       "    </tr>\n",
       "    <tr>\n",
       "      <th>4</th>\n",
       "      <td>18</td>\n",
       "      <td>55</td>\n",
       "      <td>55</td>\n",
       "      <td>31</td>\n",
       "    </tr>\n",
       "  </tbody>\n",
       "</table>\n",
       "</div>"
      ],
      "text/plain": [
       "   X1  X2  X3  X4\n",
       "0  98  59  30  37\n",
       "1  74  34  86  81\n",
       "2  95  10  12  93\n",
       "3  24  24  42  12\n",
       "4  18  55  55  31"
      ]
     },
     "metadata": {},
     "output_type": "display_data"
    },
    {
     "name": "stdout",
     "output_type": "stream",
     "text": [
      "Объектов: 27, Признаков: 4\n"
     ]
    }
   ],
   "source": [
    "import pandas as pd\n",
    "import numpy as np\n",
    "from itertools import combinations\n",
    "\n",
    "raw_data = '''\n",
    "98 74 95 24 18 30 78 95 58 74 97 12 52 92 96 98 18 41 46 86 43 31 24 93 49 84 53\n",
    "59 34 10 24 55 27 66 29 57 54 10 13 72 22 42 25 74 88 67 17 18 99 73 42 30 71 17\n",
    "30 86 12 42 55 33 44 54 72 72 80 69 88 75 45 99 13 73 90 84 33 37 47 88 29 85 54\n",
    "37 81 93 12 31 97 49 33 53 36 62 61 76 91 33 34 99 94 69 79 39 86 70 43 47 48 66\n",
    "'''\n",
    "\n",
    "\n",
    "rows = raw_data.strip().split('\\n')\n",
    "data = np.array([[int(x) for x in r.strip().split()] for r in rows]).T\n",
    "df = pd.DataFrame(data, columns=['X1', 'X2', 'X3', 'X4'])\n",
    "\n",
    "display(df.head())\n",
    "print(f\"Объектов: {df.shape[0]}, Признаков: {df.shape[1]}\")\n"
   ]
  },
  {
   "cell_type": "code",
   "execution_count": 41,
   "id": "cbd0e647",
   "metadata": {},
   "outputs": [
    {
     "data": {
      "image/png": "[encoded data removed]",
      "text/plain": [
       "<Figure size 1000x500 with 1 Axes>"
      ]
     },
     "metadata": {},
     "output_type": "display_data"
    },
    {
     "data": {
      "image/png": "[encoded data removed]",
      "text/plain": [
       "<Figure size 1000x500 with 1 Axes>"
      ]
     },
     "metadata": {},
     "output_type": "display_data"
    },
    {
     "data": {
      "image/png": "[encoded data removed]",
      "text/plain": [
       "<Figure size 1000x500 with 1 Axes>"
      ]
     },
     "metadata": {},
     "output_type": "display_data"
    },
    {
     "data": {
      "image/png": "[encoded data removed]",
      "text/plain": [
       "<Figure size 1000x500 with 1 Axes>"
      ]
     },
     "metadata": {},
     "output_type": "display_data"
    }
   ],
   "source": [
    "linkage_methods = ['single', 'complete', 'average', 'ward']\n",
    "sns.set()\n",
    "\n",
    "for method in linkage_methods:\n",
    "    plt.figure(figsize=(10, 5))\n",
    "    dendrogram = sch.dendrogram(\n",
    "        sch.linkage(df.values, method=method),\n",
    "        labels=[f\"Obj {i+1}\" for i in range(len(df))]\n",
    "    )\n",
    "    plt.title(f\"Дендрограмма (метод {method})\")\n",
    "    plt.xlabel(\"Объекты\")\n",
    "    plt.ylabel(\"Расстояние\")\n",
    "    plt.tight_layout()\n",
    "    plt.show()"
   ]
  },
  {
   "cell_type": "markdown",
   "id": "1864ca8c",
   "metadata": {},
   "source": [
    "## Построение всех 6 комбинаций кластеризаций"
   ]
  },
  {
   "cell_type": "code",
   "execution_count": 42,
   "id": "6cab1109",
   "metadata": {},
   "outputs": [
    {
     "data": {
      "text/markdown": [
       "### 🔹 Метод: **одиночной связи** | Метрика: **степенное**"
      ],
      "text/plain": [
       "<IPython.core.display.Markdown object>"
      ]
     },
     "metadata": {},
     "output_type": "display_data"
    },
    {
     "data": {
      "text/html": [
       "<div>\n",
       "<style scoped>\n",
       "    .dataframe tbody tr th:only-of-type {\n",
       "        vertical-align: middle;\n",
       "    }\n",
       "\n",
       "    .dataframe tbody tr th {\n",
       "        vertical-align: top;\n",
       "    }\n",
       "\n",
       "    .dataframe thead th {\n",
       "        text-align: right;\n",
       "    }\n",
       "</style>\n",
       "<table border=\"1\" class=\"dataframe\">\n",
       "  <thead>\n",
       "    <tr style=\"text-align: right;\">\n",
       "      <th></th>\n",
       "      <th>Номер кластера</th>\n",
       "      <th>Объекты (нумерация с 1)</th>\n",
       "    </tr>\n",
       "  </thead>\n",
       "  <tbody>\n",
       "    <tr>\n",
       "      <th>0</th>\n",
       "      <td>Кластер 1</td>\n",
       "      <td>9, 10, 13, 18, 19, 26</td>\n",
       "    </tr>\n",
       "    <tr>\n",
       "      <th>1</th>\n",
       "      <td>Кластер 2</td>\n",
       "      <td>2, 11, 14, 16, 20, 24</td>\n",
       "    </tr>\n",
       "    <tr>\n",
       "      <th>2</th>\n",
       "      <td>Кластер 3</td>\n",
       "      <td>4, 5, 6, 21, 25, 27</td>\n",
       "    </tr>\n",
       "    <tr>\n",
       "      <th>3</th>\n",
       "      <td>Кластер 4</td>\n",
       "      <td>12, 17, 22, 23</td>\n",
       "    </tr>\n",
       "    <tr>\n",
       "      <th>4</th>\n",
       "      <td>Кластер 5</td>\n",
       "      <td>1, 3, 7, 8, 15</td>\n",
       "    </tr>\n",
       "  </tbody>\n",
       "</table>\n",
       "</div>"
      ],
      "text/plain": [
       "  Номер кластера Объекты (нумерация с 1)\n",
       "0      Кластер 1   9, 10, 13, 18, 19, 26\n",
       "1      Кластер 2   2, 11, 14, 16, 20, 24\n",
       "2      Кластер 3     4, 5, 6, 21, 25, 27\n",
       "3      Кластер 4          12, 17, 22, 23\n",
       "4      Кластер 5          1, 3, 7, 8, 15"
      ]
     },
     "metadata": {},
     "output_type": "display_data"
    },
    {
     "data": {
      "text/markdown": [
       "### 🔹 Метод: **одиночной связи** | Метрика: **взвешенное евклидово**"
      ],
      "text/plain": [
       "<IPython.core.display.Markdown object>"
      ]
     },
     "metadata": {},
     "output_type": "display_data"
    },
    {
     "data": {
      "text/html": [
       "<div>\n",
       "<style scoped>\n",
       "    .dataframe tbody tr th:only-of-type {\n",
       "        vertical-align: middle;\n",
       "    }\n",
       "\n",
       "    .dataframe tbody tr th {\n",
       "        vertical-align: top;\n",
       "    }\n",
       "\n",
       "    .dataframe thead th {\n",
       "        text-align: right;\n",
       "    }\n",
       "</style>\n",
       "<table border=\"1\" class=\"dataframe\">\n",
       "  <thead>\n",
       "    <tr style=\"text-align: right;\">\n",
       "      <th></th>\n",
       "      <th>Номер кластера</th>\n",
       "      <th>Объекты (нумерация с 1)</th>\n",
       "    </tr>\n",
       "  </thead>\n",
       "  <tbody>\n",
       "    <tr>\n",
       "      <th>0</th>\n",
       "      <td>Кластер 1</td>\n",
       "      <td>13, 17, 18, 19, 22, 23</td>\n",
       "    </tr>\n",
       "    <tr>\n",
       "      <th>1</th>\n",
       "      <td>Кластер 2</td>\n",
       "      <td>4, 5, 12, 21, 25, 27</td>\n",
       "    </tr>\n",
       "    <tr>\n",
       "      <th>2</th>\n",
       "      <td>Кластер 3</td>\n",
       "      <td>2, 3, 6, 11, 14, 20</td>\n",
       "    </tr>\n",
       "    <tr>\n",
       "      <th>3</th>\n",
       "      <td>Кластер 4</td>\n",
       "      <td>9, 10, 16, 24, 26</td>\n",
       "    </tr>\n",
       "    <tr>\n",
       "      <th>4</th>\n",
       "      <td>Кластер 5</td>\n",
       "      <td>1, 7, 8, 15</td>\n",
       "    </tr>\n",
       "  </tbody>\n",
       "</table>\n",
       "</div>"
      ],
      "text/plain": [
       "  Номер кластера Объекты (нумерация с 1)\n",
       "0      Кластер 1  13, 17, 18, 19, 22, 23\n",
       "1      Кластер 2    4, 5, 12, 21, 25, 27\n",
       "2      Кластер 3     2, 3, 6, 11, 14, 20\n",
       "3      Кластер 4       9, 10, 16, 24, 26\n",
       "4      Кластер 5             1, 7, 8, 15"
      ]
     },
     "metadata": {},
     "output_type": "display_data"
    },
    {
     "data": {
      "text/markdown": [
       "### 🔹 Метод: **средних связей** | Метрика: **степенное**"
      ],
      "text/plain": [
       "<IPython.core.display.Markdown object>"
      ]
     },
     "metadata": {},
     "output_type": "display_data"
    },
    {
     "data": {
      "text/html": [
       "<div>\n",
       "<style scoped>\n",
       "    .dataframe tbody tr th:only-of-type {\n",
       "        vertical-align: middle;\n",
       "    }\n",
       "\n",
       "    .dataframe tbody tr th {\n",
       "        vertical-align: top;\n",
       "    }\n",
       "\n",
       "    .dataframe thead th {\n",
       "        text-align: right;\n",
       "    }\n",
       "</style>\n",
       "<table border=\"1\" class=\"dataframe\">\n",
       "  <thead>\n",
       "    <tr style=\"text-align: right;\">\n",
       "      <th></th>\n",
       "      <th>Номер кластера</th>\n",
       "      <th>Объекты (нумерация с 1)</th>\n",
       "    </tr>\n",
       "  </thead>\n",
       "  <tbody>\n",
       "    <tr>\n",
       "      <th>0</th>\n",
       "      <td>Кластер 1</td>\n",
       "      <td>13, 17, 18, 19, 22, 23</td>\n",
       "    </tr>\n",
       "    <tr>\n",
       "      <th>1</th>\n",
       "      <td>Кластер 2</td>\n",
       "      <td>2, 11, 14, 20</td>\n",
       "    </tr>\n",
       "    <tr>\n",
       "      <th>2</th>\n",
       "      <td>Кластер 3</td>\n",
       "      <td>6, 12, 27</td>\n",
       "    </tr>\n",
       "    <tr>\n",
       "      <th>3</th>\n",
       "      <td>Кластер 4</td>\n",
       "      <td>1, 7, 8, 15</td>\n",
       "    </tr>\n",
       "    <tr>\n",
       "      <th>4</th>\n",
       "      <td>Кластер 5</td>\n",
       "      <td>9, 10, 16, 24, 26</td>\n",
       "    </tr>\n",
       "    <tr>\n",
       "      <th>5</th>\n",
       "      <td>Кластер 6</td>\n",
       "      <td>3, 4, 5, 21, 25</td>\n",
       "    </tr>\n",
       "  </tbody>\n",
       "</table>\n",
       "</div>"
      ],
      "text/plain": [
       "  Номер кластера Объекты (нумерация с 1)\n",
       "0      Кластер 1  13, 17, 18, 19, 22, 23\n",
       "1      Кластер 2           2, 11, 14, 20\n",
       "2      Кластер 3               6, 12, 27\n",
       "3      Кластер 4             1, 7, 8, 15\n",
       "4      Кластер 5       9, 10, 16, 24, 26\n",
       "5      Кластер 6         3, 4, 5, 21, 25"
      ]
     },
     "metadata": {},
     "output_type": "display_data"
    },
    {
     "data": {
      "text/markdown": [
       "### 🔹 Метод: **средних связей** | Метрика: **взвешенное евклидово**"
      ],
      "text/plain": [
       "<IPython.core.display.Markdown object>"
      ]
     },
     "metadata": {},
     "output_type": "display_data"
    },
    {
     "data": {
      "text/html": [
       "<div>\n",
       "<style scoped>\n",
       "    .dataframe tbody tr th:only-of-type {\n",
       "        vertical-align: middle;\n",
       "    }\n",
       "\n",
       "    .dataframe tbody tr th {\n",
       "        vertical-align: top;\n",
       "    }\n",
       "\n",
       "    .dataframe thead th {\n",
       "        text-align: right;\n",
       "    }\n",
       "</style>\n",
       "<table border=\"1\" class=\"dataframe\">\n",
       "  <thead>\n",
       "    <tr style=\"text-align: right;\">\n",
       "      <th></th>\n",
       "      <th>Номер кластера</th>\n",
       "      <th>Объекты (нумерация с 1)</th>\n",
       "    </tr>\n",
       "  </thead>\n",
       "  <tbody>\n",
       "    <tr>\n",
       "      <th>0</th>\n",
       "      <td>Кластер 1</td>\n",
       "      <td>4, 5, 12, 21, 25, 27</td>\n",
       "    </tr>\n",
       "    <tr>\n",
       "      <th>1</th>\n",
       "      <td>Кластер 2</td>\n",
       "      <td>2, 11, 14, 20</td>\n",
       "    </tr>\n",
       "    <tr>\n",
       "      <th>2</th>\n",
       "      <td>Кластер 3</td>\n",
       "      <td>1, 7, 8, 15</td>\n",
       "    </tr>\n",
       "    <tr>\n",
       "      <th>3</th>\n",
       "      <td>Кластер 4</td>\n",
       "      <td>9, 10, 16, 24, 26</td>\n",
       "    </tr>\n",
       "    <tr>\n",
       "      <th>4</th>\n",
       "      <td>Кластер 5</td>\n",
       "      <td>3, 6, 17</td>\n",
       "    </tr>\n",
       "    <tr>\n",
       "      <th>5</th>\n",
       "      <td>Кластер 6</td>\n",
       "      <td>13, 18, 19, 22, 23</td>\n",
       "    </tr>\n",
       "  </tbody>\n",
       "</table>\n",
       "</div>"
      ],
      "text/plain": [
       "  Номер кластера Объекты (нумерация с 1)\n",
       "0      Кластер 1    4, 5, 12, 21, 25, 27\n",
       "1      Кластер 2           2, 11, 14, 20\n",
       "2      Кластер 3             1, 7, 8, 15\n",
       "3      Кластер 4       9, 10, 16, 24, 26\n",
       "4      Кластер 5                3, 6, 17\n",
       "5      Кластер 6      13, 18, 19, 22, 23"
      ]
     },
     "metadata": {},
     "output_type": "display_data"
    },
    {
     "data": {
      "text/markdown": [
       "### 🔹 Метод: **Уорда** | Метрика: **степенное**"
      ],
      "text/plain": [
       "<IPython.core.display.Markdown object>"
      ]
     },
     "metadata": {},
     "output_type": "display_data"
    },
    {
     "data": {
      "text/html": [
       "<div>\n",
       "<style scoped>\n",
       "    .dataframe tbody tr th:only-of-type {\n",
       "        vertical-align: middle;\n",
       "    }\n",
       "\n",
       "    .dataframe tbody tr th {\n",
       "        vertical-align: top;\n",
       "    }\n",
       "\n",
       "    .dataframe thead th {\n",
       "        text-align: right;\n",
       "    }\n",
       "</style>\n",
       "<table border=\"1\" class=\"dataframe\">\n",
       "  <thead>\n",
       "    <tr style=\"text-align: right;\">\n",
       "      <th></th>\n",
       "      <th>Номер кластера</th>\n",
       "      <th>Объекты (нумерация с 1)</th>\n",
       "    </tr>\n",
       "  </thead>\n",
       "  <tbody>\n",
       "    <tr>\n",
       "      <th>0</th>\n",
       "      <td>Кластер 1</td>\n",
       "      <td>1, 7, 8, 15</td>\n",
       "    </tr>\n",
       "    <tr>\n",
       "      <th>1</th>\n",
       "      <td>Кластер 2</td>\n",
       "      <td>2, 11, 14, 20</td>\n",
       "    </tr>\n",
       "    <tr>\n",
       "      <th>2</th>\n",
       "      <td>Кластер 3</td>\n",
       "      <td>3, 6, 12, 27</td>\n",
       "    </tr>\n",
       "    <tr>\n",
       "      <th>3</th>\n",
       "      <td>Кластер 4</td>\n",
       "      <td>4, 5, 21, 25</td>\n",
       "    </tr>\n",
       "    <tr>\n",
       "      <th>4</th>\n",
       "      <td>Кластер 5</td>\n",
       "      <td>9, 10, 16, 24, 26</td>\n",
       "    </tr>\n",
       "    <tr>\n",
       "      <th>5</th>\n",
       "      <td>Кластер 6</td>\n",
       "      <td>13, 17, 18, 19, 22, 23</td>\n",
       "    </tr>\n",
       "  </tbody>\n",
       "</table>\n",
       "</div>"
      ],
      "text/plain": [
       "  Номер кластера Объекты (нумерация с 1)\n",
       "0      Кластер 1             1, 7, 8, 15\n",
       "1      Кластер 2           2, 11, 14, 20\n",
       "2      Кластер 3            3, 6, 12, 27\n",
       "3      Кластер 4            4, 5, 21, 25\n",
       "4      Кластер 5       9, 10, 16, 24, 26\n",
       "5      Кластер 6  13, 17, 18, 19, 22, 23"
      ]
     },
     "metadata": {},
     "output_type": "display_data"
    },
    {
     "data": {
      "text/markdown": [
       "### 🔹 Метод: **Уорда** | Метрика: **взвешенное евклидово**"
      ],
      "text/plain": [
       "<IPython.core.display.Markdown object>"
      ]
     },
     "metadata": {},
     "output_type": "display_data"
    },
    {
     "data": {
      "text/html": [
       "<div>\n",
       "<style scoped>\n",
       "    .dataframe tbody tr th:only-of-type {\n",
       "        vertical-align: middle;\n",
       "    }\n",
       "\n",
       "    .dataframe tbody tr th {\n",
       "        vertical-align: top;\n",
       "    }\n",
       "\n",
       "    .dataframe thead th {\n",
       "        text-align: right;\n",
       "    }\n",
       "</style>\n",
       "<table border=\"1\" class=\"dataframe\">\n",
       "  <thead>\n",
       "    <tr style=\"text-align: right;\">\n",
       "      <th></th>\n",
       "      <th>Номер кластера</th>\n",
       "      <th>Объекты (нумерация с 1)</th>\n",
       "    </tr>\n",
       "  </thead>\n",
       "  <tbody>\n",
       "    <tr>\n",
       "      <th>0</th>\n",
       "      <td>Кластер 1</td>\n",
       "      <td>1, 7, 8, 15</td>\n",
       "    </tr>\n",
       "    <tr>\n",
       "      <th>1</th>\n",
       "      <td>Кластер 2</td>\n",
       "      <td>2, 3, 11, 14, 20</td>\n",
       "    </tr>\n",
       "    <tr>\n",
       "      <th>2</th>\n",
       "      <td>Кластер 3</td>\n",
       "      <td>4, 5, 12, 21, 25, 27</td>\n",
       "    </tr>\n",
       "    <tr>\n",
       "      <th>3</th>\n",
       "      <td>Кластер 4</td>\n",
       "      <td>6, 17, 22, 23</td>\n",
       "    </tr>\n",
       "    <tr>\n",
       "      <th>4</th>\n",
       "      <td>Кластер 5</td>\n",
       "      <td>9, 10, 16, 24, 26</td>\n",
       "    </tr>\n",
       "    <tr>\n",
       "      <th>5</th>\n",
       "      <td>Кластер 6</td>\n",
       "      <td>13, 18, 19</td>\n",
       "    </tr>\n",
       "  </tbody>\n",
       "</table>\n",
       "</div>"
      ],
      "text/plain": [
       "  Номер кластера Объекты (нумерация с 1)\n",
       "0      Кластер 1             1, 7, 8, 15\n",
       "1      Кластер 2        2, 3, 11, 14, 20\n",
       "2      Кластер 3    4, 5, 12, 21, 25, 27\n",
       "3      Кластер 4           6, 17, 22, 23\n",
       "4      Кластер 5       9, 10, 16, 24, 26\n",
       "5      Кластер 6              13, 18, 19"
      ]
     },
     "metadata": {},
     "output_type": "display_data"
    }
   ],
   "source": [
    "from IPython.display import display, Markdown\n",
    "import pandas as pd\n",
    "\n",
    "for method_un in methods_union:\n",
    "    for method_sim in methods_sim:\n",
    "        model = CalcSimilar(df_list, max_cl, method_sim)\n",
    "        clusters = model.calculate(method_un)\n",
    "\n",
    "        cluster_matrix[(method_un, method_sim)] = clusters\n",
    "\n",
    "        display(Markdown(f\"### 🔹 Метод: **{method_un}** | Метрика: **{method_sim}**\"))\n",
    "\n",
    "        # Формируем таблицу\n",
    "        cluster_data = {\n",
    "            \"Номер кластера\": [],\n",
    "            \"Объекты (нумерация с 1)\": []\n",
    "        }\n",
    "\n",
    "        for i, cl in enumerate(clusters, 1):\n",
    "            cluster_data[\"Номер кластера\"].append(f\"Кластер {i}\")\n",
    "            cluster_data[\"Объекты (нумерация с 1)\"].append(\", \".join(str(x + 1) for x in sorted(cl)))\n",
    "\n",
    "        df_clusters = pd.DataFrame(cluster_data)\n",
    "        display(df_clusters)\n"
   ]
  },
  {
   "cell_type": "markdown",
   "id": "be803185",
   "metadata": {},
   "source": [
    "## Подсчёт устойчивых пар объектов / Анализ устойчивости (по методам и метрикам)"
   ]
  },
  {
   "cell_type": "code",
   "execution_count": 43,
   "id": "8fd8ed91",
   "metadata": {},
   "outputs": [
    {
     "data": {
      "text/markdown": [
       "## 🔹 Вариации метрики при фиксированном методе"
      ],
      "text/plain": [
       "<IPython.core.display.Markdown object>"
      ]
     },
     "metadata": {},
     "output_type": "display_data"
    },
    {
     "data": {
      "text/html": [
       "<div>\n",
       "<style scoped>\n",
       "    .dataframe tbody tr th:only-of-type {\n",
       "        vertical-align: middle;\n",
       "    }\n",
       "\n",
       "    .dataframe tbody tr th {\n",
       "        vertical-align: top;\n",
       "    }\n",
       "\n",
       "    .dataframe thead th {\n",
       "        text-align: right;\n",
       "    }\n",
       "</style>\n",
       "<table border=\"1\" class=\"dataframe\">\n",
       "  <thead>\n",
       "    <tr style=\"text-align: right;\">\n",
       "      <th></th>\n",
       "      <th>Метод кластеризации</th>\n",
       "      <th>Устойчивых пар</th>\n",
       "    </tr>\n",
       "  </thead>\n",
       "  <tbody>\n",
       "    <tr>\n",
       "      <th>0</th>\n",
       "      <td>одиночной связи</td>\n",
       "      <td>32</td>\n",
       "    </tr>\n",
       "    <tr>\n",
       "      <th>1</th>\n",
       "      <td>средних связей</td>\n",
       "      <td>39</td>\n",
       "    </tr>\n",
       "    <tr>\n",
       "      <th>2</th>\n",
       "      <td>Уорда</td>\n",
       "      <td>35</td>\n",
       "    </tr>\n",
       "  </tbody>\n",
       "</table>\n",
       "</div>"
      ],
      "text/plain": [
       "  Метод кластеризации  Устойчивых пар\n",
       "0     одиночной связи              32\n",
       "1      средних связей              39\n",
       "2               Уорда              35"
      ]
     },
     "metadata": {},
     "output_type": "display_data"
    },
    {
     "data": {
      "text/markdown": [
       "## 🔹 Вариации метода при фиксированной метрике"
      ],
      "text/plain": [
       "<IPython.core.display.Markdown object>"
      ]
     },
     "metadata": {},
     "output_type": "display_data"
    },
    {
     "data": {
      "text/html": [
       "<div>\n",
       "<style scoped>\n",
       "    .dataframe tbody tr th:only-of-type {\n",
       "        vertical-align: middle;\n",
       "    }\n",
       "\n",
       "    .dataframe tbody tr th {\n",
       "        vertical-align: top;\n",
       "    }\n",
       "\n",
       "    .dataframe thead th {\n",
       "        text-align: right;\n",
       "    }\n",
       "</style>\n",
       "<table border=\"1\" class=\"dataframe\">\n",
       "  <thead>\n",
       "    <tr style=\"text-align: right;\">\n",
       "      <th></th>\n",
       "      <th>Метрика</th>\n",
       "      <th>Устойчивых пар</th>\n",
       "    </tr>\n",
       "  </thead>\n",
       "  <tbody>\n",
       "    <tr>\n",
       "      <th>0</th>\n",
       "      <td>степенное</td>\n",
       "      <td>29</td>\n",
       "    </tr>\n",
       "    <tr>\n",
       "      <th>1</th>\n",
       "      <td>взвешенное евклидово</td>\n",
       "      <td>41</td>\n",
       "    </tr>\n",
       "  </tbody>\n",
       "</table>\n",
       "</div>"
      ],
      "text/plain": [
       "                Метрика  Устойчивых пар\n",
       "0             степенное              29\n",
       "1  взвешенное евклидово              41"
      ]
     },
     "metadata": {},
     "output_type": "display_data"
    },
    {
     "data": {
      "text/markdown": [
       "## 🔹 Полный пересчёт (все комбинации)"
      ],
      "text/plain": [
       "<IPython.core.display.Markdown object>"
      ]
     },
     "metadata": {},
     "output_type": "display_data"
    },
    {
     "data": {
      "text/html": [
       "<div>\n",
       "<style scoped>\n",
       "    .dataframe tbody tr th:only-of-type {\n",
       "        vertical-align: middle;\n",
       "    }\n",
       "\n",
       "    .dataframe tbody tr th {\n",
       "        vertical-align: top;\n",
       "    }\n",
       "\n",
       "    .dataframe thead th {\n",
       "        text-align: right;\n",
       "    }\n",
       "</style>\n",
       "<table border=\"1\" class=\"dataframe\">\n",
       "  <thead>\n",
       "    <tr style=\"text-align: right;\">\n",
       "      <th></th>\n",
       "      <th>Комбинация</th>\n",
       "      <th>Устойчивых пар</th>\n",
       "    </tr>\n",
       "  </thead>\n",
       "  <tbody>\n",
       "    <tr>\n",
       "      <th>0</th>\n",
       "      <td>Все комбинации</td>\n",
       "      <td>26</td>\n",
       "    </tr>\n",
       "  </tbody>\n",
       "</table>\n",
       "</div>"
      ],
      "text/plain": [
       "       Комбинация  Устойчивых пар\n",
       "0  Все комбинации              26"
      ]
     },
     "metadata": {},
     "output_type": "display_data"
    }
   ],
   "source": [
    "from itertools import combinations\n",
    "\n",
    "all_pairs = list(combinations(range(len(df)), 2))\n",
    "\n",
    "def count_stable_pairs(cluster_sets: list[list[list[int]]]) -> int:\n",
    "    pair_counter = {pair: 0 for pair in all_pairs}\n",
    "    for clustering in cluster_sets:\n",
    "        for cluster in clustering:\n",
    "            for a, b in combinations(cluster, 2):\n",
    "                pair = tuple(sorted((a, b)))\n",
    "                pair_counter[pair] += 1\n",
    "    return sum(1 for v in pair_counter.values() if v == len(cluster_sets))\n",
    "\n",
    "\n",
    "#  1. Вариации метрики при фиксированном методе\n",
    "display(Markdown(\"## 🔹 Вариации метрики при фиксированном методе\"))\n",
    "\n",
    "rows = []\n",
    "for method_un in methods_union:\n",
    "    cluster_sets = [cluster_matrix[(method_un, sim)] for sim in methods_sim]\n",
    "    stable = count_stable_pairs(cluster_sets)\n",
    "    rows.append([method_un, stable])\n",
    "df_metric_fixed = pd.DataFrame(rows, columns=[\"Метод кластеризации\", \"Устойчивых пар\"])\n",
    "display(df_metric_fixed)\n",
    "\n",
    "#  2. Вариации метода при фиксированной метрике\n",
    "display(Markdown(\"## 🔹 Вариации метода при фиксированной метрике\"))\n",
    "\n",
    "rows = []\n",
    "for method_sim in methods_sim:\n",
    "    cluster_sets = [cluster_matrix[(union, method_sim)] for union in methods_union]\n",
    "    stable = count_stable_pairs(cluster_sets)\n",
    "    rows.append([method_sim, stable])\n",
    "df_method_fixed = pd.DataFrame(rows, columns=[\"Метрика\", \"Устойчивых пар\"])\n",
    "display(df_method_fixed)\n",
    "\n",
    "# 3. Полный пересчёт\n",
    "display(Markdown(\"## 🔹 Полный пересчёт (все комбинации)\"))\n",
    "stable_total = count_stable_pairs(list(cluster_matrix.values()))\n",
    "df_total = pd.DataFrame([[\"Все комбинации\", stable_total]], columns=[\"Комбинация\", \"Устойчивых пар\"])\n",
    "display(df_total)\n",
    "\n",
    "\n"
   ]
  },
  {
   "cell_type": "markdown",
   "id": "a12954e4",
   "metadata": {},
   "source": [
    "## Визуализация результата кластеризации (тепловая карта)"
   ]
  },
  {
   "cell_type": "code",
   "execution_count": 44,
   "id": "2e7c2acb",
   "metadata": {},
   "outputs": [
    {
     "data": {
      "image/png": "[encoded data removed]",
      "text/plain": [
       "<Figure size 1000x800 with 2 Axes>"
      ]
     },
     "metadata": {},
     "output_type": "display_data"
    }
   ],
   "source": [
    "import matplotlib.pyplot as plt\n",
    "import seaborn as sns\n",
    "import numpy as np\n",
    "\n",
    "# Генерация полной матрицы устойчивых пар на основе всех 6 комбинаций\n",
    "def build_pair_matrix(cluster_group, n_objs):\n",
    "    matrix = np.zeros((n_objs, n_objs))\n",
    "    for config in cluster_group:\n",
    "        for cluster in config:\n",
    "            for i in range(len(cluster)):\n",
    "                for j in range(i + 1, len(cluster)):\n",
    "                    a, b = cluster[i], cluster[j]\n",
    "                    matrix[a, b] += 1\n",
    "                    matrix[b, a] += 1\n",
    "    return matrix\n",
    "\n",
    "pair_matrix = build_pair_matrix(th_an, len(df))  # Используем все комбинации\n",
    "sns.set()\n",
    "\n",
    "plt.figure(figsize=(10, 8))\n",
    "sns.heatmap(pair_matrix, cmap=\"YlGnBu\", square=True, cbar_kws={'label': 'Частота попадания в один кластер'})\n",
    "plt.title(\"Heatmap устойчивых пар объектов (все методы и метрики)\")\n",
    "plt.xlabel(\"Объекты\")\n",
    "plt.ylabel(\"Объекты\")\n",
    "plt.xticks(ticks=np.arange(len(df)) + 0.5, labels=[str(i+1) for i in range(len(df))], rotation=90)\n",
    "plt.yticks(ticks=np.arange(len(df)) + 0.5, labels=[str(i+1) for i in range(len(df))], rotation=0)\n",
    "plt.tight_layout()\n",
    "plt.show()\n"
   ]
  }
 ],
 "metadata": {
  "kernelspec": {
   "display_name": ".venv",
   "language": "python",
   "name": "python3"
  },
  "language_info": {
   "codemirror_mode": {
    "name": "ipython",
    "version": 3
   },
   "file_extension": ".py",
   "mimetype": "text/x-python",
   "name": "python",
   "nbconvert_exporter": "python",
   "pygments_lexer": "ipython3",
   "version": "3.12.6"
  }
 },
 "nbformat": 4,
 "nbformat_minor": 5
}
