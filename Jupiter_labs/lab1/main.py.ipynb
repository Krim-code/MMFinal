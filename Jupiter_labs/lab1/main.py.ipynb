{
 "cells": [
  {
   "cell_type": "markdown",
   "id": "ef0f7393fa34ede1",
   "metadata": {},
   "source": [
    "# Лабораторная работа: Оценка параметра методом экспертных оценок"
   ]
  },
  {
   "cell_type": "markdown",
   "id": "16d2c29a9c62497a",
   "metadata": {},
   "source": [
    "# Вариант: 6 / Кол-во экспертов: 9\n"
   ]
  },
  {
   "cell_type": "code",
   "execution_count": 16,
   "id": "76ebc5199c93d632",
   "metadata": {
    "jupyter": {
     "is_executing": true
    }
   },
   "outputs": [],
   "source": [
    "import math\n",
    "import matplotlib.pyplot as plt\n"
   ]
  },
  {
   "cell_type": "code",
   "execution_count": 7,
   "id": "a97be0921262f461",
   "metadata": {},
   "outputs": [],
   "source": [
    "data1 = '6 9 87 90 77 83 87 82 81 97 97'\n",
    "data2 = '6 9 10 15 14 09 07 8 10 15 12'\n",
    "data3 = '6 9 22 27 33 31 23 28 31 36 30'"
   ]
  },
  {
   "cell_type": "code",
   "execution_count": 3,
   "id": "c52a416c1764337c",
   "metadata": {},
   "outputs": [],
   "source": [
    "R = 4  # Точность округления"
   ]
  },
  {
   "cell_type": "markdown",
   "id": "cc093f6c69439047",
   "metadata": {},
   "source": [
    "# Разбор строк и преобразование"
   ]
  },
  {
   "cell_type": "code",
   "execution_count": 5,
   "id": "b525a0424ba10966",
   "metadata": {},
   "outputs": [],
   "source": [
    "per_ocenki_par = [int(i)/100 for i in data1.split(' ')[2:]]\n",
    "per_koef_avtor_exs = [int(i)/100 for i in data2.split(' ')[2:]]\n",
    "koef_rassogl_ocen_exs = [int(i)/100 for i in data3.split(' ')[2:]]"
   ]
  },
  {
   "cell_type": "code",
   "execution_count": 6,
   "id": "62c5a5b9",
   "metadata": {},
   "outputs": [],
   "source": [
    "x = per_ocenki_par\n",
    "v = per_koef_avtor_exs\n",
    "k = koef_rassogl_ocen_exs"
   ]
  },
  {
   "cell_type": "code",
   "execution_count": 8,
   "id": "74398688",
   "metadata": {},
   "outputs": [
    {
     "name": "stdout",
     "output_type": "stream",
     "text": [
      "## Входные данные\n",
      "Вариант: 6\n",
      "Количество экспертов: 9\n",
      "\n",
      "Оценки параметров: [0.87, 0.9, 0.77, 0.83, 0.87, 0.82, 0.81, 0.97, 0.97]\n",
      "Коэффициенты авторитета: [0.1, 0.15, 0.14, 0.09, 0.07, 0.08, 0.1, 0.15, 0.12]\n",
      "Коэффициенты рассогласования: [0.22, 0.27, 0.33, 0.31, 0.23, 0.28, 0.31, 0.36, 0.3]\n"
     ]
    }
   ],
   "source": [
    "print(\"## Входные данные\")\n",
    "print(f\"Вариант: {data1.split(' ')[0]}\")\n",
    "print(f\"Количество экспертов: {data1.split(' ')[1]}\")\n",
    "print(f\"\\nОценки параметров: {x}\")\n",
    "print(f\"Коэффициенты авторитета: {v}\")\n",
    "print(f\"Коэффициенты рассогласования: {k}\")"
   ]
  },
  {
   "cell_type": "markdown",
   "id": "08dee174",
   "metadata": {},
   "source": [
    "# Расчёт уточнённых коэффициентов авторитета"
   ]
  },
  {
   "cell_type": "code",
   "execution_count": 9,
   "id": "51ccea47",
   "metadata": {},
   "outputs": [
    {
     "name": "stdout",
     "output_type": "stream",
     "text": [
      "## Уточнённые коэффициенты авторитета\n",
      "[0.1566, 0.2193, 0.1919, 0.1258, 0.108, 0.1156, 0.1398, 0.2, 0.1695]\n"
     ]
    }
   ],
   "source": [
    "utochn = [round(0.5 * (v[i] + (v[i] / (k[i] ** 0.5))), R) for i in range(len(v))]\n",
    "print(\"## Уточнённые коэффициенты авторитета\")\n",
    "print(utochn)"
   ]
  },
  {
   "cell_type": "markdown",
   "id": "e11db9b7",
   "metadata": {},
   "source": [
    "# Скорректированные коэффициенты авторитета\n"
   ]
  },
  {
   "cell_type": "code",
   "execution_count": 10,
   "id": "3082d5be",
   "metadata": {},
   "outputs": [
    {
     "name": "stdout",
     "output_type": "stream",
     "text": [
      "## Скорректированные коэффициенты авторитета\n",
      "[0.1098, 0.1537, 0.1345, 0.0882, 0.0757, 0.081, 0.098, 0.1402, 0.1188]\n"
     ]
    }
   ],
   "source": [
    "sum_utochn = sum(utochn)\n",
    "skorek = [round(u / sum_utochn, R) for u in utochn]\n",
    "print(\"## Скорректированные коэффициенты авторитета\")\n",
    "print(skorek)"
   ]
  },
  {
   "cell_type": "markdown",
   "id": "1a5b593c",
   "metadata": {},
   "source": [
    "# Среднее арифметическое значений параметра\n"
   ]
  },
  {
   "cell_type": "code",
   "execution_count": 11,
   "id": "d8921a05",
   "metadata": {},
   "outputs": [
    {
     "name": "stdout",
     "output_type": "stream",
     "text": [
      "## Среднее арифметическое значений параметра\n",
      "0.8678\n"
     ]
    }
   ],
   "source": [
    "p_A1 = round(sum(x) / len(x), R)\n",
    "print(\"## Среднее арифметическое значений параметра\")\n",
    "print(p_A1)"
   ]
  },
  {
   "cell_type": "markdown",
   "id": "1a665c6a",
   "metadata": {},
   "source": [
    "# Аггрегация без коррекции коэффициентов\n"
   ]
  },
  {
   "cell_type": "code",
   "execution_count": 12,
   "id": "d80df026",
   "metadata": {},
   "outputs": [
    {
     "name": "stdout",
     "output_type": "stream",
     "text": [
      "## Аггрегированное значение без коррекции авторитета\n",
      "0.8738\n"
     ]
    }
   ],
   "source": [
    "current_v = v.copy()\n",
    "sum_ = 0\n",
    "\n",
    "for i in range(len(x)-1):\n",
    "    for j in range(i+1, len(x)):\n",
    "        if current_v[i] - current_v[j] != 0:\n",
    "            h_ij = ((max(current_v) - current_v[i]) /\n",
    "                    (current_v[i] - current_v[j])) * (x[i] - x[j]) + x[i]\n",
    "        else:\n",
    "            h_ij = (x[i] + x[j]) / 2\n",
    "        sum_ += h_ij if 0 < h_ij < 1 else (1 if h_ij >= 1 else 0)\n",
    "\n",
    "p_A2 = round(2 * math.factorial(len(v) - 2) / math.factorial(len(v)) * sum_, R)\n",
    "print(\"## Аггрегированное значение без коррекции авторитета\")\n",
    "print(p_A2)"
   ]
  },
  {
   "cell_type": "markdown",
   "id": "fe84e01e",
   "metadata": {},
   "source": [
    "# Аггрегация с коррекцией коэффициентов\n"
   ]
  },
  {
   "cell_type": "code",
   "execution_count": 13,
   "id": "13aa7376",
   "metadata": {},
   "outputs": [
    {
     "name": "stdout",
     "output_type": "stream",
     "text": [
      "## Аггрегированное значение с коррекцией авторитета\n",
      "0.8594\n"
     ]
    }
   ],
   "source": [
    "current_v = skorek.copy()\n",
    "sum_ = 0\n",
    "\n",
    "for i in range(len(x)-1):\n",
    "    for j in range(i+1, len(x)):\n",
    "        h_ij = ((max(current_v) - current_v[i]) /\n",
    "                (current_v[i] - current_v[j])) * (x[i] - x[j]) + x[i]\n",
    "        sum_ += h_ij if 0 < h_ij < 1 else (1 if h_ij >= 1 else 0)\n",
    "\n",
    "p_A3 = round(2 * math.factorial(len(v) - 2) / math.factorial(len(v)) * sum_, R)\n",
    "print(\"## Аггрегированное значение с коррекцией авторитета\")\n",
    "print(p_A3)"
   ]
  },
  {
   "cell_type": "markdown",
   "id": "4e59b542",
   "metadata": {},
   "source": [
    "# Финальный анализ\n"
   ]
  },
  {
   "cell_type": "code",
   "execution_count": 14,
   "id": "d3a34e7d",
   "metadata": {},
   "outputs": [
    {
     "name": "stdout",
     "output_type": "stream",
     "text": [
      "## Сравнение результатов\n",
      "Среднее арифметическое (без авторитета): 0.8678\n",
      "Аггрегация без коррекции: 0.8738\n",
      "Аггрегация с коррекцией: 0.8594\n"
     ]
    }
   ],
   "source": [
    "print(\"## Сравнение результатов\")\n",
    "print(f\"Среднее арифметическое (без авторитета): {p_A1}\")\n",
    "print(f\"Аггрегация без коррекции: {p_A2}\")\n",
    "print(f\"Аггрегация с коррекцией: {p_A3}\")"
   ]
  },
  {
   "cell_type": "code",
   "execution_count": 18,
   "id": "7f849f75",
   "metadata": {},
   "outputs": [
    {
     "data": {
      "image/png": "[encoded data removed]",
      "text/plain": [
       "<Figure size 1200x600 with 1 Axes>"
      ]
     },
     "metadata": {},
     "output_type": "display_data"
    }
   ],
   "source": [
    "import numpy as np\n",
    "import matplotlib.pyplot as plt\n",
    "\n",
    "# Обозначения\n",
    "experts = [f\"Э{i+1}\" for i in range(len(x))]\n",
    "x_vals = x\n",
    "v_vals = v\n",
    "sk_vals = skorek\n",
    "\n",
    "# Подготовка осей\n",
    "index = np.arange(len(x))\n",
    "bar_width = 0.25\n",
    "\n",
    "# Создание графика\n",
    "plt.figure(figsize=(12, 6))\n",
    "\n",
    "plt.bar(index - bar_width, x_vals, width=bar_width, label='Оценки параметра')\n",
    "plt.bar(index, v_vals, width=bar_width, label='Авторитет (исходный)')\n",
    "plt.bar(index + bar_width, sk_vals, width=bar_width, label='Авторитет (скоррект.)')\n",
    "\n",
    "plt.xticks(index, experts)\n",
    "plt.xlabel(\"Эксперты\")\n",
    "plt.ylabel(\"Значения\")\n",
    "plt.title(\"Сравнение оценок и коэффициентов авторитета экспертов\")\n",
    "plt.legend()\n",
    "plt.grid(axis='y', linestyle='--', alpha=0.5)\n",
    "plt.tight_layout()\n",
    "plt.show()\n"
   ]
  }
 ],
 "metadata": {
  "kernelspec": {
   "display_name": ".venv",
   "language": "python",
   "name": "python3"
  },
  "language_info": {
   "codemirror_mode": {
    "name": "ipython",
    "version": 3
   },
   "file_extension": ".py",
   "mimetype": "text/x-python",
   "name": "python",
   "nbconvert_exporter": "python",
   "pygments_lexer": "ipython3",
   "version": "3.12.6"
  }
 },
 "nbformat": 4,
 "nbformat_minor": 5
}
